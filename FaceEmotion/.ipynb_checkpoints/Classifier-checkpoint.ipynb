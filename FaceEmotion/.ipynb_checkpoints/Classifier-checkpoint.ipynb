{
 "cells": [
  {
   "cell_type": "markdown",
   "metadata": {},
   "source": [
    "# Face emotions analysis"
   ]
  },
  {
   "cell_type": "markdown",
   "metadata": {},
   "source": [
    "Face emotion classifier using the [CK+ dataset](http://www.pitt.edu/~emotion/ck-spread.htm)"
   ]
  },
  {
   "cell_type": "code",
   "execution_count": 77,
   "metadata": {
    "ExecuteTime": {
     "end_time": "2019-01-20T15:02:09.163739Z",
     "start_time": "2019-01-20T15:02:09.159969Z"
    }
   },
   "outputs": [],
   "source": [
    "from fastai import *\n",
    "from fastai.vision import *\n",
    "import pdb"
   ]
  },
  {
   "cell_type": "code",
   "execution_count": 17,
   "metadata": {
    "ExecuteTime": {
     "end_time": "2019-01-20T14:28:49.341778Z",
     "start_time": "2019-01-20T14:28:49.338833Z"
    }
   },
   "outputs": [],
   "source": [
    "path = Path('../../datasets/CK+/')\n",
    "image_path = path/'cohn-kanade-images'\n",
    "anno_path = path/'Emotion'"
   ]
  },
  {
   "cell_type": "code",
   "execution_count": 11,
   "metadata": {
    "ExecuteTime": {
     "end_time": "2019-01-20T14:05:16.745428Z",
     "start_time": "2019-01-20T14:05:16.740709Z"
    }
   },
   "outputs": [
    {
     "data": {
      "text/plain": [
       "[PosixPath('../../datasets/CK+/FACS'),\n",
       " PosixPath('../../datasets/CK+/Landmarks'),\n",
       " PosixPath('../../datasets/CK+/FACS_labels.zip'),\n",
       " PosixPath('../../datasets/CK+/Emotion'),\n",
       " PosixPath('../../datasets/CK+/__MACOSX'),\n",
       " PosixPath('../../datasets/CK+/ReadMeCohnKanadeDatabase_website.txt'),\n",
       " PosixPath('../../datasets/CK+/CVPR2010_CK.pdf'),\n",
       " PosixPath('../../datasets/CK+/extended-cohn-kanade-images.zip'),\n",
       " PosixPath('../../datasets/CK+/Consent-for-publication (1).doc'),\n",
       " PosixPath('../../datasets/CK+/Emotion_labels.zip'),\n",
       " PosixPath('../../datasets/CK+/Landmarks.zip'),\n",
       " PosixPath('../../datasets/CK+/cohn-kanade-images')]"
      ]
     },
     "execution_count": 11,
     "metadata": {},
     "output_type": "execute_result"
    }
   ],
   "source": [
    "PATH.ls()"
   ]
  },
  {
   "cell_type": "code",
   "execution_count": 113,
   "metadata": {
    "ExecuteTime": {
     "end_time": "2019-01-20T15:25:01.241326Z",
     "start_time": "2019-01-20T15:24:59.830057Z"
    },
    "scrolled": true
   },
   "outputs": [],
   "source": [
    "tfms = get_transforms()\n",
    "# pdb.set_trace()\n",
    "data = (ImageItemList.from_folder(image_path) #Where to find the data? -> in path and its subfolders\n",
    "        .filter_by_func(filter_last)\n",
    "        .random_split_by_pct()              #How to split in train/valid? -> use the folders\n",
    "        .label_from_folder()            #How to label? -> depending on the folder of the filenames\n",
    "        .transform(tfms, size=64)       #Data augmentation? -> use tfms with a size of 64\n",
    "        .databunch())    "
   ]
  },
  {
   "cell_type": "code",
   "execution_count": 57,
   "metadata": {
    "ExecuteTime": {
     "end_time": "2019-01-20T14:46:54.935343Z",
     "start_time": "2019-01-20T14:46:54.931435Z"
    }
   },
   "outputs": [
    {
     "data": {
      "text/plain": [
       "PosixPath('../../datasets/CK+/cohn-kanade-images/S058/006/S058_006_00000008.png')"
      ]
     },
     "execution_count": 57,
     "metadata": {},
     "output_type": "execute_result"
    }
   ],
   "source": [
    "data.items[0]"
   ]
  },
  {
   "cell_type": "code",
   "execution_count": 39,
   "metadata": {
    "ExecuteTime": {
     "end_time": "2019-01-20T14:36:13.431680Z",
     "start_time": "2019-01-20T14:36:13.426834Z"
    },
    "scrolled": true
   },
   "outputs": [
    {
     "data": {
      "text/plain": [
       "'S058/006/S058_006_00000008_emotion.txt'"
      ]
     },
     "execution_count": 39,
     "metadata": {},
     "output_type": "execute_result"
    }
   ],
   "source": [
    "'/'.join(data.items[0].parts[-3:])[:-4] + '_emotion.txt'"
   ]
  },
  {
   "cell_type": "code",
   "execution_count": 59,
   "metadata": {
    "ExecuteTime": {
     "end_time": "2019-01-20T14:47:15.244399Z",
     "start_time": "2019-01-20T14:47:15.238794Z"
    }
   },
   "outputs": [
    {
     "data": {
      "text/plain": [
       "PosixPath('../../datasets/CK+/cohn-kanade-images/S058/006')"
      ]
     },
     "execution_count": 59,
     "metadata": {},
     "output_type": "execute_result"
    }
   ],
   "source": [
    "p = image_path/('/'.join(data.items[0].parts[-3:-1])); p"
   ]
  },
  {
   "cell_type": "code",
   "execution_count": 112,
   "metadata": {
    "ExecuteTime": {
     "end_time": "2019-01-20T15:24:57.035072Z",
     "start_time": "2019-01-20T15:24:57.030216Z"
    }
   },
   "outputs": [],
   "source": [
    "def filter_last(item):\n",
    "    \"\"\"\n",
    "    only keep the last image of all the images for a given person and a given emotion\n",
    "    \"\"\"\n",
    "    # path to the folder containing all the images \n",
    "    p = image_path/('/'.join(item.parts[-3:-1]))\n",
    "    # only keep actual numbers as ls also list hidden files\n",
    "    l = lambda x : int(x) if x.isdigit() else -1\n",
    "    # find the number of the last image in the folder\n",
    "    m = max([l(f.parts[-1][-6:-4]) for f in p.ls()])\n",
    "    # return True if item is the last image\n",
    "    return (int(item.parts[-1][-6:-4]) == m)"
   ]
  },
  {
   "cell_type": "code",
   "execution_count": 43,
   "metadata": {
    "ExecuteTime": {
     "end_time": "2019-01-20T14:38:44.154817Z",
     "start_time": "2019-01-20T14:38:44.150717Z"
    }
   },
   "outputs": [],
   "source": [
    "def annotate(item):\n",
    "    p = anno_path/('/'.join(item.parts[-3:])[:-4] + '_emotion.txt')\n",
    "    with p.open() as f:\n",
    "        print(f.readline())"
   ]
  },
  {
   "cell_type": "code",
   "execution_count": 114,
   "metadata": {
    "ExecuteTime": {
     "end_time": "2019-01-20T15:25:12.971655Z",
     "start_time": "2019-01-20T15:25:12.967487Z"
    }
   },
   "outputs": [
    {
     "data": {
      "text/plain": [
       "PosixPath('../../datasets/CK+/cohn-kanade-images/S058/006/S058_006_00000018.png')"
      ]
     },
     "execution_count": 114,
     "metadata": {},
     "output_type": "execute_result"
    }
   ],
   "source": [
    "item = data.items[0]; item"
   ]
  },
  {
   "cell_type": "code",
   "execution_count": 115,
   "metadata": {
    "ExecuteTime": {
     "end_time": "2019-01-20T15:25:14.139226Z",
     "start_time": "2019-01-20T15:25:14.136207Z"
    }
   },
   "outputs": [
    {
     "name": "stdout",
     "output_type": "stream",
     "text": [
      "   3.0000000e+00\n",
      "\n"
     ]
    }
   ],
   "source": [
    "annotate(item)"
   ]
  },
  {
   "cell_type": "code",
   "execution_count": null,
   "metadata": {},
   "outputs": [],
   "source": [
    "/home/pierre/Desktop/datasets/CK+/Emotion/S058/006/S058_006_00000018_emotion.txt"
   ]
  }
 ],
 "metadata": {
  "kernelspec": {
   "display_name": "Python 3",
   "language": "python",
   "name": "python3"
  },
  "language_info": {
   "codemirror_mode": {
    "name": "ipython",
    "version": 3
   },
   "file_extension": ".py",
   "mimetype": "text/x-python",
   "name": "python",
   "nbconvert_exporter": "python",
   "pygments_lexer": "ipython3",
   "version": "3.7.0"
  },
  "toc": {
   "base_numbering": 1,
   "nav_menu": {},
   "number_sections": true,
   "sideBar": true,
   "skip_h1_title": false,
   "title_cell": "Table of Contents",
   "title_sidebar": "Contents",
   "toc_cell": false,
   "toc_position": {},
   "toc_section_display": true,
   "toc_window_display": false
  },
  "varInspector": {
   "cols": {
    "lenName": 16,
    "lenType": 16,
    "lenVar": 40
   },
   "kernels_config": {
    "python": {
     "delete_cmd_postfix": "",
     "delete_cmd_prefix": "del ",
     "library": "var_list.py",
     "varRefreshCmd": "print(var_dic_list())"
    },
    "r": {
     "delete_cmd_postfix": ") ",
     "delete_cmd_prefix": "rm(",
     "library": "var_list.r",
     "varRefreshCmd": "cat(var_dic_list()) "
    }
   },
   "types_to_exclude": [
    "module",
    "function",
    "builtin_function_or_method",
    "instance",
    "_Feature"
   ],
   "window_display": false
  }
 },
 "nbformat": 4,
 "nbformat_minor": 2
}
